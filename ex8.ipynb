{
 "cells": [
  {
   "cell_type": "code",
   "execution_count": 4,
   "metadata": {},
   "outputs": [],
   "source": [
    "import os\n",
    "from tensorflow import keras\n",
    "\n",
    "basepath = os.path.abspath(os.path.join(os.curdir, \"..\"))\n",
    "weights_path = os.path.join(\n",
    "    basepath, \"tf_models\", \"cifair10_weigths.h5\")\n",
    "\n",
    "def make_model(input_shape):\n",
    "    \"Create a model with batch normalization.\"\n",
    "    layers = [keras.layers.Flatten(input_shape=input_shape)]\n",
    "    for _ in range(20):\n",
    "        layers.append(keras.layers.BatchNormalization())\n",
    "        layers.append(keras.layers.Dense(100, activation=\"elu\", kernel_initializer=\"he_normal\"))\n",
    "    layers.append(keras.layers.BatchNormalization())\n",
    "    layers.append(keras.layers.Dense(10, activation=\"softmax\"))\n",
    "\n",
    "    model = keras.models.Sequential(layers)\n",
    "\n",
    "    model.compile(\n",
    "        loss=\"sparse_categorical_crossentropy\",\n",
    "        optimizer=keras.optimizers.Nadam(),\n",
    "        metrics=[\"accuracy\"]\n",
    "    )\n",
    "\n",
    "    model.save_weights(weights_path)\n",
    "\n",
    "    return model"
   ]
  },
  {
   "cell_type": "code",
   "execution_count": 5,
   "metadata": {},
   "outputs": [],
   "source": [
    "model = make_model((32, 32, 3))"
   ]
  },
  {
   "cell_type": "code",
   "execution_count": 6,
   "metadata": {},
   "outputs": [],
   "source": [
    "model_path = os.path.join(basepath, \"tf_models\", \"cifair10_model.h5\")\n",
    "model.save(model_path)"
   ]
  }
 ],
 "metadata": {
  "interpreter": {
   "hash": "916dbcbb3f70747c44a77c7bcd40155683ae19c65e1c03b4aa3499c5328201f1"
  },
  "kernelspec": {
   "display_name": "Python 3.8.10 64-bit",
   "language": "python",
   "name": "python3"
  },
  "language_info": {
   "codemirror_mode": {
    "name": "ipython",
    "version": 3
   },
   "file_extension": ".py",
   "mimetype": "text/x-python",
   "name": "python",
   "nbconvert_exporter": "python",
   "pygments_lexer": "ipython3",
   "version": "3.8.10"
  },
  "orig_nbformat": 4
 },
 "nbformat": 4,
 "nbformat_minor": 2
}
