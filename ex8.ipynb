{
 "cells": [
  {
   "cell_type": "code",
   "execution_count": 2,
   "metadata": {},
   "outputs": [],
   "source": [
    "import os\n",
    "from tensorflow import keras\n",
    "\n",
    "basepath = os.path.abspath(os.path.join(os.curdir, \"..\"))\n",
    "weights_path = os.path.join(\n",
    "    basepath, \"tf_models\", \"cifair10_weigths.h5\")\n",
    "\n",
    "def make_model(input_shape):\n",
    "    \"Create a model with batch normalization.\"\n",
    "    layers = [keras.layers.Flatten(input_shape=input_shape)]\n",
    "    for _ in range(20):\n",
    "        layers.append(keras.layers.BatchNormalization())\n",
    "        layers.append(keras.layers.Dense(100, activation=\"elu\", kernel_initializer=\"he_normal\"))\n",
    "    layers.append(keras.layers.BatchNormalization())\n",
    "    layers.append(keras.layers.Dense(10, activation=\"softmax\"))\n",
    "\n",
    "    model = keras.models.Sequential(layers)\n",
    "\n",
    "    model.compile(\n",
    "        loss=\"sparse_categorical_crossentropy\",\n",
    "        optimizer=keras.optimizers.Nadam(),\n",
    "        metrics=[\"accuracy\"]\n",
    "    )\n",
    "\n",
    "    model.save_weights(weights_path)\n",
    "\n",
    "    return model"
   ]
  },
  {
   "cell_type": "code",
   "execution_count": 3,
   "metadata": {},
   "outputs": [],
   "source": [
    "model = make_model((32, 32, 3))"
   ]
  },
  {
   "cell_type": "code",
   "execution_count": 4,
   "metadata": {},
   "outputs": [],
   "source": [
    "model_path = os.path.join(basepath, \"tf_models\", \"cifair10_model.h5\")\n",
    "model.save(model_path)"
   ]
  },
  {
   "cell_type": "code",
   "execution_count": 5,
   "metadata": {},
   "outputs": [],
   "source": [
    "from keras.datasets import cifar10\n",
    "\n",
    "def load_cifair10():\n",
    "    \"Import CIFAIR10 dataset and split into train, validation and test sets.\"\n",
    "    data = cifar10.load_data()\n",
    "    (X_train_full, y_train_full), (X_test, y_test) = data\n",
    "    X_valid, X_train = X_train_full[:5000] / 255.0, X_train_full[5000:] / 255.0\n",
    "    y_valid, y_train = y_train_full[:5000], y_train_full[5000:]\n",
    "    X_test = X_test / 255.0\n",
    "    \n",
    "    return (X_train, y_train, X_valid, y_valid, X_test, y_test)"
   ]
  },
  {
   "cell_type": "code",
   "execution_count": 6,
   "metadata": {},
   "outputs": [],
   "source": [
    "import h5py\n",
    "\n",
    "(X_train, y_train, X_val, y_val, X_test, y_test) = load_cifair10()\n",
    "filepath = os.path.join(basepath, \"tf_models\", \"cifair10.h5\")\n",
    "\n",
    "with h5py.File(filepath, \"w\") as f:\n",
    "    f.create_dataset(\"X_train\", data=X_train)\n",
    "    f.create_dataset(\"y_train\", data=y_train)\n",
    "\n",
    "    f.create_dataset(\"X_val\", data=X_val)\n",
    "    f.create_dataset(\"y_val\", data=y_val)\n",
    "\n",
    "    f.create_dataset(\"X_test\", data=X_test)\n",
    "    f.create_dataset(\"y_test\", data=y_test)"
   ]
  }
 ],
 "metadata": {
  "interpreter": {
   "hash": "916dbcbb3f70747c44a77c7bcd40155683ae19c65e1c03b4aa3499c5328201f1"
  },
  "kernelspec": {
   "display_name": "Python 3.8.10 64-bit",
   "language": "python",
   "name": "python3"
  },
  "language_info": {
   "codemirror_mode": {
    "name": "ipython",
    "version": 3
   },
   "file_extension": ".py",
   "mimetype": "text/x-python",
   "name": "python",
   "nbconvert_exporter": "python",
   "pygments_lexer": "ipython3",
   "version": "3.8.10"
  },
  "orig_nbformat": 4
 },
 "nbformat": 4,
 "nbformat_minor": 2
}
